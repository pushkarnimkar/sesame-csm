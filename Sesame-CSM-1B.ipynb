{
 "cells": [
  {
   "cell_type": "code",
   "execution_count": 1,
   "id": "adc29684-5290-4cef-a895-8554e111f771",
   "metadata": {},
   "outputs": [],
   "source": [
    "from huggingface_hub import hf_hub_download\n",
    "from generator import load_csm_1b, Segment\n",
    "import torchaudio\n",
    "import torch\n"
   ]
  },
  {
   "cell_type": "code",
   "execution_count": 2,
   "id": "2227aaf1-64f3-4e73-899f-5e73defdf145",
   "metadata": {},
   "outputs": [
    {
     "name": "stdout",
     "output_type": "stream",
     "text": [
      "device = cuda\n"
     ]
    }
   ],
   "source": [
    "if torch.backends.mps.is_available():\n",
    "    device = \"mps\"\n",
    "elif torch.cuda.is_available():\n",
    "    device = \"cuda\"\n",
    "else:\n",
    "    device = \"cpu\"\n",
    "\n",
    "print(f'device = {device}')\n"
   ]
  },
  {
   "cell_type": "code",
   "execution_count": 3,
   "id": "6c920978-df6f-4146-9718-b92294e9fc61",
   "metadata": {},
   "outputs": [
    {
     "name": "stderr",
     "output_type": "stream",
     "text": [
      "/home/pushkar/Code/SesameAILabs/csm/generator.py:175: FutureWarning: You are using `torch.load` with `weights_only=False` (the current default value), which uses the default pickle module implicitly. It is possible to construct malicious pickle data which will execute arbitrary code during unpickling (See https://github.com/pytorch/pytorch/blob/main/SECURITY.md#untrusted-models for more details). In a future release, the default value for `weights_only` will be flipped to `True`. This limits the functions that could be executed during unpickling. Arbitrary objects will no longer be allowed to be loaded via this mode unless they are explicitly allowlisted by the user via `torch.serialization.add_safe_globals`. We recommend you start setting `weights_only=True` for any use case where you don't have full control of the loaded file. Please open an issue on GitHub for any issues related to this experimental feature.\n",
      "  state_dict = torch.load(ckpt_path)\n"
     ]
    },
    {
     "name": "stdout",
     "output_type": "stream",
     "text": [
      "ckpt path or config path does not exist! Downloading the model from the Hugging Face Hub...\n"
     ]
    },
    {
     "data": {
      "application/vnd.jupyter.widget-view+json": {
       "model_id": "8ee44ecb463049cc8815cf2a307a2a95",
       "version_major": 2,
       "version_minor": 0
      },
      "text/plain": [
       "Fetching 13 files:   0%|          | 0/13 [00:00<?, ?it/s]"
      ]
     },
     "metadata": {},
     "output_type": "display_data"
    },
    {
     "name": "stderr",
     "output_type": "stream",
     "text": [
      "/home/pushkar/Code/SesameAILabs/csm/.venv/lib/python3.12/site-packages/silentcipher/server.py:463: FutureWarning: You are using `torch.load` with `weights_only=False` (the current default value), which uses the default pickle module implicitly. It is possible to construct malicious pickle data which will execute arbitrary code during unpickling (See https://github.com/pytorch/pytorch/blob/main/SECURITY.md#untrusted-models for more details). In a future release, the default value for `weights_only` will be flipped to `True`. This limits the functions that could be executed during unpickling. Arbitrary objects will no longer be allowed to be loaded via this mode unless they are explicitly allowlisted by the user via `torch.serialization.add_safe_globals`. We recommend you start setting `weights_only=True` for any use case where you don't have full control of the loaded file. Please open an issue on GitHub for any issues related to this experimental feature.\n",
      "  self.enc_c.load_state_dict(self.convert_dataparallel_to_normal(torch.load(os.path.join(ckpt_dir, \"enc_c.ckpt\"), map_location=self.device)))\n",
      "/home/pushkar/Code/SesameAILabs/csm/.venv/lib/python3.12/site-packages/silentcipher/server.py:464: FutureWarning: You are using `torch.load` with `weights_only=False` (the current default value), which uses the default pickle module implicitly. It is possible to construct malicious pickle data which will execute arbitrary code during unpickling (See https://github.com/pytorch/pytorch/blob/main/SECURITY.md#untrusted-models for more details). In a future release, the default value for `weights_only` will be flipped to `True`. This limits the functions that could be executed during unpickling. Arbitrary objects will no longer be allowed to be loaded via this mode unless they are explicitly allowlisted by the user via `torch.serialization.add_safe_globals`. We recommend you start setting `weights_only=True` for any use case where you don't have full control of the loaded file. Please open an issue on GitHub for any issues related to this experimental feature.\n",
      "  self.dec_c.load_state_dict(self.convert_dataparallel_to_normal(torch.load(os.path.join(ckpt_dir, \"dec_c.ckpt\"), map_location=self.device)))\n",
      "/home/pushkar/Code/SesameAILabs/csm/.venv/lib/python3.12/site-packages/silentcipher/server.py:466: FutureWarning: You are using `torch.load` with `weights_only=False` (the current default value), which uses the default pickle module implicitly. It is possible to construct malicious pickle data which will execute arbitrary code during unpickling (See https://github.com/pytorch/pytorch/blob/main/SECURITY.md#untrusted-models for more details). In a future release, the default value for `weights_only` will be flipped to `True`. This limits the functions that could be executed during unpickling. Arbitrary objects will no longer be allowed to be loaded via this mode unless they are explicitly allowlisted by the user via `torch.serialization.add_safe_globals`. We recommend you start setting `weights_only=True` for any use case where you don't have full control of the loaded file. Please open an issue on GitHub for any issues related to this experimental feature.\n",
      "  m.load_state_dict(self.convert_dataparallel_to_normal(torch.load(os.path.join(ckpt_dir, f\"dec_m_{i}.ckpt\"), map_location=self.device)))\n"
     ]
    }
   ],
   "source": [
    "model_path = hf_hub_download(repo_id=\"sesame/csm-1b\", filename=\"ckpt.pt\")\n",
    "generator = load_csm_1b(model_path, device)\n"
   ]
  },
  {
   "cell_type": "code",
   "execution_count": 4,
   "id": "2a2d7823-214e-4b58-94cb-270a0e15b61a",
   "metadata": {},
   "outputs": [],
   "source": [
    "speakers = [0]\n",
    "transcripts = [\n",
    "    \"Oh, hello! How's it going? Why don't you tell me a joke?\"\n",
    "]\n",
    "audio_paths = [\n",
    "    \"/home/pushkar/Documents/Recordings/Pushkar-Utterance.mp3\",\n",
    "]\n"
   ]
  },
  {
   "cell_type": "code",
   "execution_count": 5,
   "id": "3284e253-7a5d-42bc-b354-f446f71d0552",
   "metadata": {},
   "outputs": [],
   "source": [
    "\n",
    "def load_audio(audio_path):\n",
    "    audio_tensor, sample_rate = torchaudio.load(audio_path)\n",
    "    audio_tensor = torchaudio.functional.resample(\n",
    "        audio_tensor.squeeze(0), orig_freq=sample_rate, new_freq=generator.sample_rate\n",
    "    )\n",
    "    return audio_tensor\n",
    "    "
   ]
  },
  {
   "cell_type": "code",
   "execution_count": 6,
   "id": "63936cf6-c1b8-494d-9dfb-daf077ac0e03",
   "metadata": {},
   "outputs": [],
   "source": [
    "\n",
    "segments = [\n",
    "    Segment(text=transcript, speaker=speaker, audio=load_audio(audio_path)[0])\n",
    "    for transcript, speaker, audio_path in zip(transcripts, speakers, audio_paths)\n",
    "]\n"
   ]
  },
  {
   "cell_type": "code",
   "execution_count": 7,
   "id": "38df1eb2-f406-445f-8fe7-dfe8ca444dde",
   "metadata": {},
   "outputs": [],
   "source": [
    "audio = generator.generate(\n",
    "    text=\"Hello from Sesame.\",\n",
    "    speaker=0,\n",
    "    context=segments,\n",
    "    max_audio_length_ms=12_000,\n",
    ")\n",
    "\n",
    "torchaudio.save(\"audio.wav\", audio.unsqueeze(0).cpu(), generator.sample_rate)\n"
   ]
  },
  {
   "cell_type": "code",
   "execution_count": null,
   "id": "c67ab5db-0dde-4f37-aceb-fe7547875a23",
   "metadata": {},
   "outputs": [],
   "source": []
  },
  {
   "cell_type": "code",
   "execution_count": null,
   "id": "03735e92-1538-4550-9de0-e6054c1dd600",
   "metadata": {},
   "outputs": [],
   "source": []
  }
 ],
 "metadata": {
  "kernelspec": {
   "display_name": "Python 3 (ipykernel)",
   "language": "python",
   "name": "python3"
  },
  "language_info": {
   "codemirror_mode": {
    "name": "ipython",
    "version": 3
   },
   "file_extension": ".py",
   "mimetype": "text/x-python",
   "name": "python",
   "nbconvert_exporter": "python",
   "pygments_lexer": "ipython3",
   "version": "3.12.3"
  }
 },
 "nbformat": 4,
 "nbformat_minor": 5
}
